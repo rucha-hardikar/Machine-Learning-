{
 "cells": [
  {
   "cell_type": "markdown",
   "metadata": {},
   "source": [
    "### Part A"
   ]
  },
  {
   "cell_type": "code",
   "execution_count": 16,
   "metadata": {},
   "outputs": [],
   "source": [
    "# HERE YOU WILL WRITE CODE TO TEST A NUMBER OF PREDICTORS\n",
    "# AND FINALLY CHOOSE AND TRAIN THE PREDICTOR THAT YOU WILL BE USING FOR PART B\n",
    "import pandas as pd\n",
    "import numpy as np\n",
    "from sklearn.tree import DecisionTreeClassifier\n",
    "from sklearn.model_selection import train_test_split\n",
    "from sklearn import metrics"
   ]
  },
  {
   "cell_type": "code",
   "execution_count": 17,
   "metadata": {},
   "outputs": [
    {
     "data": {
      "text/html": [
       "<div>\n",
       "<style scoped>\n",
       "    .dataframe tbody tr th:only-of-type {\n",
       "        vertical-align: middle;\n",
       "    }\n",
       "\n",
       "    .dataframe tbody tr th {\n",
       "        vertical-align: top;\n",
       "    }\n",
       "\n",
       "    .dataframe thead th {\n",
       "        text-align: right;\n",
       "    }\n",
       "</style>\n",
       "<table border=\"1\" class=\"dataframe\">\n",
       "  <thead>\n",
       "    <tr style=\"text-align: right;\">\n",
       "      <th></th>\n",
       "      <th>F1</th>\n",
       "      <th>F2</th>\n",
       "      <th>F3</th>\n",
       "      <th>F4</th>\n",
       "      <th>F5</th>\n",
       "      <th>F6</th>\n",
       "      <th>F7</th>\n",
       "      <th>F8</th>\n",
       "      <th>F9</th>\n",
       "      <th>F10</th>\n",
       "      <th>...</th>\n",
       "      <th>F13</th>\n",
       "      <th>F14</th>\n",
       "      <th>F15</th>\n",
       "      <th>F16</th>\n",
       "      <th>F17</th>\n",
       "      <th>F18</th>\n",
       "      <th>F19</th>\n",
       "      <th>F20</th>\n",
       "      <th>F21</th>\n",
       "      <th>Class</th>\n",
       "    </tr>\n",
       "  </thead>\n",
       "  <tbody>\n",
       "    <tr>\n",
       "      <th>0</th>\n",
       "      <td>-28703.964</td>\n",
       "      <td>0.73</td>\n",
       "      <td>-4.051752</td>\n",
       "      <td>-6.99630</td>\n",
       "      <td>1473.45</td>\n",
       "      <td>0</td>\n",
       "      <td>4.40510</td>\n",
       "      <td>16004.16</td>\n",
       "      <td>1</td>\n",
       "      <td>-11645.820</td>\n",
       "      <td>...</td>\n",
       "      <td>-13.735</td>\n",
       "      <td>5.9854</td>\n",
       "      <td>14.24730</td>\n",
       "      <td>1.4892</td>\n",
       "      <td>9959.04</td>\n",
       "      <td>-3199.35</td>\n",
       "      <td>6.8670</td>\n",
       "      <td>-4850.82</td>\n",
       "      <td>NaN</td>\n",
       "      <td>False</td>\n",
       "    </tr>\n",
       "    <tr>\n",
       "      <th>1</th>\n",
       "      <td>-28726.730</td>\n",
       "      <td>1.73</td>\n",
       "      <td>-5.153000</td>\n",
       "      <td>-4.27404</td>\n",
       "      <td>783.15</td>\n",
       "      <td>0</td>\n",
       "      <td>4.54500</td>\n",
       "      <td>16041.48</td>\n",
       "      <td>1</td>\n",
       "      <td>-9759.420</td>\n",
       "      <td>...</td>\n",
       "      <td>-5.171</td>\n",
       "      <td>4.6222</td>\n",
       "      <td>14.99820</td>\n",
       "      <td>3.1206</td>\n",
       "      <td>10107.44</td>\n",
       "      <td>-3064.95</td>\n",
       "      <td>9.4710</td>\n",
       "      <td>378.78</td>\n",
       "      <td>NaN</td>\n",
       "      <td>True</td>\n",
       "    </tr>\n",
       "    <tr>\n",
       "      <th>2</th>\n",
       "      <td>-28717.120</td>\n",
       "      <td>0.73</td>\n",
       "      <td>-8.440000</td>\n",
       "      <td>-8.25900</td>\n",
       "      <td>2573.95</td>\n",
       "      <td>0</td>\n",
       "      <td>3.59962</td>\n",
       "      <td>16422.78</td>\n",
       "      <td>0</td>\n",
       "      <td>-10775.220</td>\n",
       "      <td>...</td>\n",
       "      <td>-38.650</td>\n",
       "      <td>4.4096</td>\n",
       "      <td>17.79000</td>\n",
       "      <td>1.9818</td>\n",
       "      <td>10971.04</td>\n",
       "      <td>-3638.85</td>\n",
       "      <td>2.0373</td>\n",
       "      <td>-5215.48</td>\n",
       "      <td>NaN</td>\n",
       "      <td>False</td>\n",
       "    </tr>\n",
       "    <tr>\n",
       "      <th>3</th>\n",
       "      <td>-81470.290</td>\n",
       "      <td>0.73</td>\n",
       "      <td>-4.386600</td>\n",
       "      <td>-5.57460</td>\n",
       "      <td>1499.68</td>\n",
       "      <td>0</td>\n",
       "      <td>3.56675</td>\n",
       "      <td>16270.04</td>\n",
       "      <td>1</td>\n",
       "      <td>-9416.714</td>\n",
       "      <td>...</td>\n",
       "      <td>-8.639</td>\n",
       "      <td>8.5080</td>\n",
       "      <td>12.98424</td>\n",
       "      <td>11.5620</td>\n",
       "      <td>9681.10</td>\n",
       "      <td>724.95</td>\n",
       "      <td>2.0220</td>\n",
       "      <td>-4378.42</td>\n",
       "      <td>NaN</td>\n",
       "      <td>False</td>\n",
       "    </tr>\n",
       "    <tr>\n",
       "      <th>4</th>\n",
       "      <td>-28750.800</td>\n",
       "      <td>1.73</td>\n",
       "      <td>-4.650200</td>\n",
       "      <td>-4.33848</td>\n",
       "      <td>1409.15</td>\n",
       "      <td>1</td>\n",
       "      <td>5.07000</td>\n",
       "      <td>16548.78</td>\n",
       "      <td>1</td>\n",
       "      <td>-9797.820</td>\n",
       "      <td>...</td>\n",
       "      <td>-14.730</td>\n",
       "      <td>5.5188</td>\n",
       "      <td>13.57260</td>\n",
       "      <td>2.5440</td>\n",
       "      <td>10965.64</td>\n",
       "      <td>-2607.15</td>\n",
       "      <td>4.3140</td>\n",
       "      <td>-1919.22</td>\n",
       "      <td>NaN</td>\n",
       "      <td>True</td>\n",
       "    </tr>\n",
       "  </tbody>\n",
       "</table>\n",
       "<p>5 rows × 22 columns</p>\n",
       "</div>"
      ],
      "text/plain": [
       "          F1    F2        F3       F4       F5  F6       F7        F8  F9  \\\n",
       "0 -28703.964  0.73 -4.051752 -6.99630  1473.45   0  4.40510  16004.16   1   \n",
       "1 -28726.730  1.73 -5.153000 -4.27404   783.15   0  4.54500  16041.48   1   \n",
       "2 -28717.120  0.73 -8.440000 -8.25900  2573.95   0  3.59962  16422.78   0   \n",
       "3 -81470.290  0.73 -4.386600 -5.57460  1499.68   0  3.56675  16270.04   1   \n",
       "4 -28750.800  1.73 -4.650200 -4.33848  1409.15   1  5.07000  16548.78   1   \n",
       "\n",
       "         F10  ...     F13     F14       F15      F16       F17      F18  \\\n",
       "0 -11645.820  ... -13.735  5.9854  14.24730   1.4892   9959.04 -3199.35   \n",
       "1  -9759.420  ...  -5.171  4.6222  14.99820   3.1206  10107.44 -3064.95   \n",
       "2 -10775.220  ... -38.650  4.4096  17.79000   1.9818  10971.04 -3638.85   \n",
       "3  -9416.714  ...  -8.639  8.5080  12.98424  11.5620   9681.10   724.95   \n",
       "4  -9797.820  ... -14.730  5.5188  13.57260   2.5440  10965.64 -2607.15   \n",
       "\n",
       "      F19      F20  F21  Class  \n",
       "0  6.8670 -4850.82  NaN  False  \n",
       "1  9.4710   378.78  NaN   True  \n",
       "2  2.0373 -5215.48  NaN  False  \n",
       "3  2.0220 -4378.42  NaN  False  \n",
       "4  4.3140 -1919.22  NaN   True  \n",
       "\n",
       "[5 rows x 22 columns]"
      ]
     },
     "execution_count": 17,
     "metadata": {},
     "output_type": "execute_result"
    }
   ],
   "source": [
    "#Import data file and verify\n",
    "df=pd.read_csv('CE802_P2_Data.csv')\n",
    "df.head()"
   ]
  },
  {
   "cell_type": "code",
   "execution_count": 18,
   "metadata": {},
   "outputs": [
    {
     "data": {
      "text/plain": [
       "(1000, 22)"
      ]
     },
     "execution_count": 18,
     "metadata": {},
     "output_type": "execute_result"
    }
   ],
   "source": [
    "#Check the data shape\n",
    "df.shape"
   ]
  },
  {
   "cell_type": "code",
   "execution_count": 19,
   "metadata": {},
   "outputs": [
    {
     "data": {
      "text/plain": [
       "F1         0\n",
       "F2         0\n",
       "F3         0\n",
       "F4         0\n",
       "F5         0\n",
       "F6         0\n",
       "F7         0\n",
       "F8         0\n",
       "F9         0\n",
       "F10        0\n",
       "F11        0\n",
       "F12        0\n",
       "F13        0\n",
       "F14        0\n",
       "F15        0\n",
       "F16        0\n",
       "F17        0\n",
       "F18        0\n",
       "F19        0\n",
       "F20        0\n",
       "F21      500\n",
       "Class      0\n",
       "dtype: int64"
      ]
     },
     "execution_count": 19,
     "metadata": {},
     "output_type": "execute_result"
    }
   ],
   "source": [
    "#Check the missing values\n",
    "df.isnull().sum()"
   ]
  },
  {
   "cell_type": "code",
   "execution_count": 20,
   "metadata": {},
   "outputs": [
    {
     "data": {
      "text/plain": [
       "-10.183520000000003"
      ]
     },
     "execution_count": 20,
     "metadata": {},
     "output_type": "execute_result"
    }
   ],
   "source": [
    "#Checking mean of values in F21 column\n",
    "df['F21'].mean()"
   ]
  },
  {
   "cell_type": "code",
   "execution_count": 21,
   "metadata": {},
   "outputs": [],
   "source": [
    "#Using the method of eliminating rows containing null values would have deleted 500 rows which is almost 50 percent of data . So another imputation method is used.\n",
    "#Using 'Replace with mean value' imputation method \n",
    "df.fillna((df['F21'].mean()),inplace=True)"
   ]
  },
  {
   "cell_type": "code",
   "execution_count": 22,
   "metadata": {},
   "outputs": [
    {
     "data": {
      "text/plain": [
       "F1       0\n",
       "F2       0\n",
       "F3       0\n",
       "F4       0\n",
       "F5       0\n",
       "F6       0\n",
       "F7       0\n",
       "F8       0\n",
       "F9       0\n",
       "F10      0\n",
       "F11      0\n",
       "F12      0\n",
       "F13      0\n",
       "F14      0\n",
       "F15      0\n",
       "F16      0\n",
       "F17      0\n",
       "F18      0\n",
       "F19      0\n",
       "F20      0\n",
       "F21      0\n",
       "Class    0\n",
       "dtype: int64"
      ]
     },
     "execution_count": 22,
     "metadata": {},
     "output_type": "execute_result"
    }
   ],
   "source": [
    "#Recheck for null values\n",
    "df.isnull().sum()"
   ]
  },
  {
   "cell_type": "code",
   "execution_count": 23,
   "metadata": {},
   "outputs": [
    {
     "name": "stdout",
     "output_type": "stream",
     "text": [
      "<class 'pandas.core.frame.DataFrame'>\n",
      "RangeIndex: 1000 entries, 0 to 999\n",
      "Data columns (total 22 columns):\n",
      " #   Column  Non-Null Count  Dtype  \n",
      "---  ------  --------------  -----  \n",
      " 0   F1      1000 non-null   float64\n",
      " 1   F2      1000 non-null   float64\n",
      " 2   F3      1000 non-null   float64\n",
      " 3   F4      1000 non-null   float64\n",
      " 4   F5      1000 non-null   float64\n",
      " 5   F6      1000 non-null   int64  \n",
      " 6   F7      1000 non-null   float64\n",
      " 7   F8      1000 non-null   float64\n",
      " 8   F9      1000 non-null   int64  \n",
      " 9   F10     1000 non-null   float64\n",
      " 10  F11     1000 non-null   float64\n",
      " 11  F12     1000 non-null   float64\n",
      " 12  F13     1000 non-null   float64\n",
      " 13  F14     1000 non-null   float64\n",
      " 14  F15     1000 non-null   float64\n",
      " 15  F16     1000 non-null   float64\n",
      " 16  F17     1000 non-null   float64\n",
      " 17  F18     1000 non-null   float64\n",
      " 18  F19     1000 non-null   float64\n",
      " 19  F20     1000 non-null   float64\n",
      " 20  F21     1000 non-null   float64\n",
      " 21  Class   1000 non-null   bool   \n",
      "dtypes: bool(1), float64(19), int64(2)\n",
      "memory usage: 165.2 KB\n"
     ]
    }
   ],
   "source": [
    "df.info()"
   ]
  },
  {
   "cell_type": "code",
   "execution_count": 68,
   "metadata": {},
   "outputs": [
    {
     "data": {
      "text/html": [
       "<div>\n",
       "<style scoped>\n",
       "    .dataframe tbody tr th:only-of-type {\n",
       "        vertical-align: middle;\n",
       "    }\n",
       "\n",
       "    .dataframe tbody tr th {\n",
       "        vertical-align: top;\n",
       "    }\n",
       "\n",
       "    .dataframe thead th {\n",
       "        text-align: right;\n",
       "    }\n",
       "</style>\n",
       "<table border=\"1\" class=\"dataframe\">\n",
       "  <thead>\n",
       "    <tr style=\"text-align: right;\">\n",
       "      <th></th>\n",
       "      <th>F1</th>\n",
       "      <th>F2</th>\n",
       "      <th>F3</th>\n",
       "      <th>F4</th>\n",
       "      <th>F5</th>\n",
       "      <th>F6</th>\n",
       "      <th>F7</th>\n",
       "      <th>F8</th>\n",
       "      <th>F9</th>\n",
       "      <th>F10</th>\n",
       "      <th>...</th>\n",
       "      <th>F13</th>\n",
       "      <th>F14</th>\n",
       "      <th>F15</th>\n",
       "      <th>F16</th>\n",
       "      <th>F17</th>\n",
       "      <th>F18</th>\n",
       "      <th>F19</th>\n",
       "      <th>F20</th>\n",
       "      <th>F21</th>\n",
       "      <th>Class</th>\n",
       "    </tr>\n",
       "  </thead>\n",
       "  <tbody>\n",
       "    <tr>\n",
       "      <th>0</th>\n",
       "      <td>-28703.964</td>\n",
       "      <td>0.73</td>\n",
       "      <td>-4.051752</td>\n",
       "      <td>-6.99630</td>\n",
       "      <td>1473.45</td>\n",
       "      <td>0.0</td>\n",
       "      <td>4.40510</td>\n",
       "      <td>16004.16</td>\n",
       "      <td>1.0</td>\n",
       "      <td>-11645.820</td>\n",
       "      <td>...</td>\n",
       "      <td>-13.735</td>\n",
       "      <td>5.9854</td>\n",
       "      <td>14.24730</td>\n",
       "      <td>1.4892</td>\n",
       "      <td>9959.04</td>\n",
       "      <td>-3199.35</td>\n",
       "      <td>6.8670</td>\n",
       "      <td>-4850.82</td>\n",
       "      <td>-10.18352</td>\n",
       "      <td>0.0</td>\n",
       "    </tr>\n",
       "    <tr>\n",
       "      <th>1</th>\n",
       "      <td>-28726.730</td>\n",
       "      <td>1.73</td>\n",
       "      <td>-5.153000</td>\n",
       "      <td>-4.27404</td>\n",
       "      <td>783.15</td>\n",
       "      <td>0.0</td>\n",
       "      <td>4.54500</td>\n",
       "      <td>16041.48</td>\n",
       "      <td>1.0</td>\n",
       "      <td>-9759.420</td>\n",
       "      <td>...</td>\n",
       "      <td>-5.171</td>\n",
       "      <td>4.6222</td>\n",
       "      <td>14.99820</td>\n",
       "      <td>3.1206</td>\n",
       "      <td>10107.44</td>\n",
       "      <td>-3064.95</td>\n",
       "      <td>9.4710</td>\n",
       "      <td>378.78</td>\n",
       "      <td>-10.18352</td>\n",
       "      <td>1.0</td>\n",
       "    </tr>\n",
       "    <tr>\n",
       "      <th>2</th>\n",
       "      <td>-28717.120</td>\n",
       "      <td>0.73</td>\n",
       "      <td>-8.440000</td>\n",
       "      <td>-8.25900</td>\n",
       "      <td>2573.95</td>\n",
       "      <td>0.0</td>\n",
       "      <td>3.59962</td>\n",
       "      <td>16422.78</td>\n",
       "      <td>0.0</td>\n",
       "      <td>-10775.220</td>\n",
       "      <td>...</td>\n",
       "      <td>-38.650</td>\n",
       "      <td>4.4096</td>\n",
       "      <td>17.79000</td>\n",
       "      <td>1.9818</td>\n",
       "      <td>10971.04</td>\n",
       "      <td>-3638.85</td>\n",
       "      <td>2.0373</td>\n",
       "      <td>-5215.48</td>\n",
       "      <td>-10.18352</td>\n",
       "      <td>0.0</td>\n",
       "    </tr>\n",
       "    <tr>\n",
       "      <th>3</th>\n",
       "      <td>-81470.290</td>\n",
       "      <td>0.73</td>\n",
       "      <td>-4.386600</td>\n",
       "      <td>-5.57460</td>\n",
       "      <td>1499.68</td>\n",
       "      <td>0.0</td>\n",
       "      <td>3.56675</td>\n",
       "      <td>16270.04</td>\n",
       "      <td>1.0</td>\n",
       "      <td>-9416.714</td>\n",
       "      <td>...</td>\n",
       "      <td>-8.639</td>\n",
       "      <td>8.5080</td>\n",
       "      <td>12.98424</td>\n",
       "      <td>11.5620</td>\n",
       "      <td>9681.10</td>\n",
       "      <td>724.95</td>\n",
       "      <td>2.0220</td>\n",
       "      <td>-4378.42</td>\n",
       "      <td>-10.18352</td>\n",
       "      <td>0.0</td>\n",
       "    </tr>\n",
       "    <tr>\n",
       "      <th>4</th>\n",
       "      <td>-28750.800</td>\n",
       "      <td>1.73</td>\n",
       "      <td>-4.650200</td>\n",
       "      <td>-4.33848</td>\n",
       "      <td>1409.15</td>\n",
       "      <td>1.0</td>\n",
       "      <td>5.07000</td>\n",
       "      <td>16548.78</td>\n",
       "      <td>1.0</td>\n",
       "      <td>-9797.820</td>\n",
       "      <td>...</td>\n",
       "      <td>-14.730</td>\n",
       "      <td>5.5188</td>\n",
       "      <td>13.57260</td>\n",
       "      <td>2.5440</td>\n",
       "      <td>10965.64</td>\n",
       "      <td>-2607.15</td>\n",
       "      <td>4.3140</td>\n",
       "      <td>-1919.22</td>\n",
       "      <td>-10.18352</td>\n",
       "      <td>1.0</td>\n",
       "    </tr>\n",
       "  </tbody>\n",
       "</table>\n",
       "<p>5 rows × 22 columns</p>\n",
       "</div>"
      ],
      "text/plain": [
       "          F1    F2        F3       F4       F5   F6       F7        F8   F9  \\\n",
       "0 -28703.964  0.73 -4.051752 -6.99630  1473.45  0.0  4.40510  16004.16  1.0   \n",
       "1 -28726.730  1.73 -5.153000 -4.27404   783.15  0.0  4.54500  16041.48  1.0   \n",
       "2 -28717.120  0.73 -8.440000 -8.25900  2573.95  0.0  3.59962  16422.78  0.0   \n",
       "3 -81470.290  0.73 -4.386600 -5.57460  1499.68  0.0  3.56675  16270.04  1.0   \n",
       "4 -28750.800  1.73 -4.650200 -4.33848  1409.15  1.0  5.07000  16548.78  1.0   \n",
       "\n",
       "         F10  ...     F13     F14       F15      F16       F17      F18  \\\n",
       "0 -11645.820  ... -13.735  5.9854  14.24730   1.4892   9959.04 -3199.35   \n",
       "1  -9759.420  ...  -5.171  4.6222  14.99820   3.1206  10107.44 -3064.95   \n",
       "2 -10775.220  ... -38.650  4.4096  17.79000   1.9818  10971.04 -3638.85   \n",
       "3  -9416.714  ...  -8.639  8.5080  12.98424  11.5620   9681.10   724.95   \n",
       "4  -9797.820  ... -14.730  5.5188  13.57260   2.5440  10965.64 -2607.15   \n",
       "\n",
       "      F19      F20       F21  Class  \n",
       "0  6.8670 -4850.82 -10.18352    0.0  \n",
       "1  9.4710   378.78 -10.18352    1.0  \n",
       "2  2.0373 -5215.48 -10.18352    0.0  \n",
       "3  2.0220 -4378.42 -10.18352    0.0  \n",
       "4  4.3140 -1919.22 -10.18352    1.0  \n",
       "\n",
       "[5 rows x 22 columns]"
      ]
     },
     "execution_count": 68,
     "metadata": {},
     "output_type": "execute_result"
    }
   ],
   "source": [
    "#Convert all data types in float\n",
    "df['F6'] = df.F6.astype('float64')\n",
    "df['F9'] = df.F9.astype('float64')\n",
    "df.head()"
   ]
  },
  {
   "cell_type": "code",
   "execution_count": 69,
   "metadata": {},
   "outputs": [
    {
     "data": {
      "text/plain": [
       "<AxesSubplot:title={'center':'Plot 3'}, ylabel='Frequency'>"
      ]
     },
     "execution_count": 69,
     "metadata": {},
     "output_type": "execute_result"
    },
    {
     "data": {
      "image/png": "[encoded data removed]",
      "text/plain": [
       "<Figure size 2160x2160 with 1 Axes>"
      ]
     },
     "metadata": {
      "needs_background": "light"
     },
     "output_type": "display_data"
    },
    {
     "data": {
      "image/png": "[encoded data removed]",
      "text/plain": [
       "<Figure size 1440x1440 with 1 Axes>"
      ]
     },
     "metadata": {
      "needs_background": "light"
     },
     "output_type": "display_data"
    },
    {
     "data": {
      "image/png": "[encoded data removed]",
      "text/plain": [
       "<Figure size 1440x1440 with 1 Axes>"
      ]
     },
     "metadata": {
      "needs_background": "light"
     },
     "output_type": "display_data"
    },
    {
     "data": {
      "image/png": "[encoded data removed]",
      "text/plain": [
       "<Figure size 1440x1440 with 1 Axes>"
      ]
     },
     "metadata": {
      "needs_background": "light"
     },
     "output_type": "display_data"
    }
   ],
   "source": [
    "#Relations of features with class\n",
    "df.plot(x=\"Class\",y=[\"F1\",\"F2\",\"F3\",\"F4\",\"F5\",\"F6\",\"F7\",\"F8\",\"F9\",\"F10\",\"F11\",\"F12\",\"F13\",\"F14\",\"F15\",\"F16\",\"F17\",\"F18\",\"F19\",\"F20\",\"F21\"],kind=\"hist\",figsize=(30,30),title=\"Main Plot\")\n",
    "\n",
    "df.plot(x=\"Class\",y=[\"F1\",\"F2\",\"F3\",\"F4\",\"F5\",\"F6\",\"F7\"],kind=\"hist\",figsize=(20,20),title=\"Plot 1\")\n",
    "\n",
    "df.plot(x=\"Class\",y=[\"F8\",\"F9\",\"F10\",\"F11\",\"F12\",\"F13\",\"F14\"],kind=\"hist\",figsize=(20,20),title=\"Plot 2\")\n",
    "\n",
    "df.plot(x=\"Class\",y=[\"F15\",\"F16\",\"F17\",\"F18\",\"F19\",\"F20\",\"F21\"],kind=\"hist\",figsize=(20,20),title=\"Plot 3\")\n"
   ]
  },
  {
   "cell_type": "code",
   "execution_count": 70,
   "metadata": {},
   "outputs": [],
   "source": [
    "#Separating input and output features\n",
    "features=df.drop(['Class'],axis=1)\n",
    "target_var=df['Class']\n"
   ]
  },
  {
   "cell_type": "code",
   "execution_count": 71,
   "metadata": {},
   "outputs": [
    {
     "data": {
      "text/html": [
       "<div>\n",
       "<style scoped>\n",
       "    .dataframe tbody tr th:only-of-type {\n",
       "        vertical-align: middle;\n",
       "    }\n",
       "\n",
       "    .dataframe tbody tr th {\n",
       "        vertical-align: top;\n",
       "    }\n",
       "\n",
       "    .dataframe thead th {\n",
       "        text-align: right;\n",
       "    }\n",
       "</style>\n",
       "<table border=\"1\" class=\"dataframe\">\n",
       "  <thead>\n",
       "    <tr style=\"text-align: right;\">\n",
       "      <th></th>\n",
       "      <th>F1</th>\n",
       "      <th>F2</th>\n",
       "      <th>F3</th>\n",
       "      <th>F4</th>\n",
       "      <th>F5</th>\n",
       "      <th>F6</th>\n",
       "      <th>F7</th>\n",
       "      <th>F8</th>\n",
       "      <th>F9</th>\n",
       "      <th>F10</th>\n",
       "      <th>...</th>\n",
       "      <th>F13</th>\n",
       "      <th>F14</th>\n",
       "      <th>F15</th>\n",
       "      <th>F16</th>\n",
       "      <th>F17</th>\n",
       "      <th>F18</th>\n",
       "      <th>F19</th>\n",
       "      <th>F20</th>\n",
       "      <th>F21</th>\n",
       "      <th>Class</th>\n",
       "    </tr>\n",
       "  </thead>\n",
       "  <tbody>\n",
       "    <tr>\n",
       "      <th>count</th>\n",
       "      <td>1000.000000</td>\n",
       "      <td>1000.000000</td>\n",
       "      <td>1000.000000</td>\n",
       "      <td>1000.000000</td>\n",
       "      <td>1000.000000</td>\n",
       "      <td>1000.000000</td>\n",
       "      <td>1000.000000</td>\n",
       "      <td>1000.000000</td>\n",
       "      <td>1000.000000</td>\n",
       "      <td>1000.000000</td>\n",
       "      <td>...</td>\n",
       "      <td>1000.000000</td>\n",
       "      <td>1000.000000</td>\n",
       "      <td>1000.000000</td>\n",
       "      <td>1000.000000</td>\n",
       "      <td>1000.000000</td>\n",
       "      <td>1000.000000</td>\n",
       "      <td>1000.000000</td>\n",
       "      <td>1000.000000</td>\n",
       "      <td>1000.00000</td>\n",
       "      <td>1000.000000</td>\n",
       "    </tr>\n",
       "    <tr>\n",
       "      <th>mean</th>\n",
       "      <td>-28749.730710</td>\n",
       "      <td>1.259000</td>\n",
       "      <td>-5.008527</td>\n",
       "      <td>-7.073618</td>\n",
       "      <td>1787.391510</td>\n",
       "      <td>0.507000</td>\n",
       "      <td>4.314597</td>\n",
       "      <td>16794.708266</td>\n",
       "      <td>0.481000</td>\n",
       "      <td>-10014.212102</td>\n",
       "      <td>...</td>\n",
       "      <td>-13.932299</td>\n",
       "      <td>6.097217</td>\n",
       "      <td>15.932875</td>\n",
       "      <td>4.033075</td>\n",
       "      <td>9994.592611</td>\n",
       "      <td>-3750.649178</td>\n",
       "      <td>3.255798</td>\n",
       "      <td>-5066.909169</td>\n",
       "      <td>-10.18352</td>\n",
       "      <td>0.506000</td>\n",
       "    </tr>\n",
       "    <tr>\n",
       "      <th>std</th>\n",
       "      <td>1688.229804</td>\n",
       "      <td>0.499408</td>\n",
       "      <td>1.343875</td>\n",
       "      <td>2.708288</td>\n",
       "      <td>702.890861</td>\n",
       "      <td>0.500201</td>\n",
       "      <td>0.614178</td>\n",
       "      <td>2074.355688</td>\n",
       "      <td>0.499889</td>\n",
       "      <td>1494.941683</td>\n",
       "      <td>...</td>\n",
       "      <td>10.285697</td>\n",
       "      <td>1.802407</td>\n",
       "      <td>2.708330</td>\n",
       "      <td>2.609035</td>\n",
       "      <td>1058.036210</td>\n",
       "      <td>739.616151</td>\n",
       "      <td>2.699756</td>\n",
       "      <td>1023.164795</td>\n",
       "      <td>0.75110</td>\n",
       "      <td>0.500214</td>\n",
       "    </tr>\n",
       "    <tr>\n",
       "      <th>min</th>\n",
       "      <td>-81470.290000</td>\n",
       "      <td>0.730000</td>\n",
       "      <td>-15.676000</td>\n",
       "      <td>-17.676000</td>\n",
       "      <td>-1942.650000</td>\n",
       "      <td>0.000000</td>\n",
       "      <td>3.540592</td>\n",
       "      <td>7679.980000</td>\n",
       "      <td>0.000000</td>\n",
       "      <td>-19975.820000</td>\n",
       "      <td>...</td>\n",
       "      <td>-85.560000</td>\n",
       "      <td>4.225980</td>\n",
       "      <td>12.966360</td>\n",
       "      <td>1.266660</td>\n",
       "      <td>3700.240000</td>\n",
       "      <td>-8521.050000</td>\n",
       "      <td>0.334140</td>\n",
       "      <td>-12915.220000</td>\n",
       "      <td>-13.62000</td>\n",
       "      <td>0.000000</td>\n",
       "    </tr>\n",
       "    <tr>\n",
       "      <th>25%</th>\n",
       "      <td>-28720.400000</td>\n",
       "      <td>0.730000</td>\n",
       "      <td>-5.319050</td>\n",
       "      <td>-8.262750</td>\n",
       "      <td>1506.272500</td>\n",
       "      <td>0.000000</td>\n",
       "      <td>3.827700</td>\n",
       "      <td>15994.420000</td>\n",
       "      <td>0.000000</td>\n",
       "      <td>-10175.920000</td>\n",
       "      <td>...</td>\n",
       "      <td>-16.732500</td>\n",
       "      <td>4.743650</td>\n",
       "      <td>13.852350</td>\n",
       "      <td>2.079975</td>\n",
       "      <td>9584.540000</td>\n",
       "      <td>-3791.062500</td>\n",
       "      <td>1.150725</td>\n",
       "      <td>-5335.020000</td>\n",
       "      <td>-10.18352</td>\n",
       "      <td>0.000000</td>\n",
       "    </tr>\n",
       "    <tr>\n",
       "      <th>50%</th>\n",
       "      <td>-28701.070500</td>\n",
       "      <td>1.730000</td>\n",
       "      <td>-4.507200</td>\n",
       "      <td>-6.221100</td>\n",
       "      <td>1649.040000</td>\n",
       "      <td>1.000000</td>\n",
       "      <td>4.180750</td>\n",
       "      <td>16381.580000</td>\n",
       "      <td>0.000000</td>\n",
       "      <td>-9636.920000</td>\n",
       "      <td>...</td>\n",
       "      <td>-10.862000</td>\n",
       "      <td>5.534500</td>\n",
       "      <td>15.096750</td>\n",
       "      <td>3.267150</td>\n",
       "      <td>9755.930000</td>\n",
       "      <td>-3589.140000</td>\n",
       "      <td>2.384400</td>\n",
       "      <td>-5044.997000</td>\n",
       "      <td>-10.18352</td>\n",
       "      <td>1.000000</td>\n",
       "    </tr>\n",
       "    <tr>\n",
       "      <th>75%</th>\n",
       "      <td>-28682.255000</td>\n",
       "      <td>1.730000</td>\n",
       "      <td>-4.127370</td>\n",
       "      <td>-5.059425</td>\n",
       "      <td>1880.725000</td>\n",
       "      <td>1.000000</td>\n",
       "      <td>4.694500</td>\n",
       "      <td>17021.730000</td>\n",
       "      <td>1.000000</td>\n",
       "      <td>-9383.513500</td>\n",
       "      <td>...</td>\n",
       "      <td>-6.972000</td>\n",
       "      <td>6.834000</td>\n",
       "      <td>17.170500</td>\n",
       "      <td>5.188500</td>\n",
       "      <td>10066.240000</td>\n",
       "      <td>-3489.926250</td>\n",
       "      <td>4.704750</td>\n",
       "      <td>-4795.820000</td>\n",
       "      <td>-10.13750</td>\n",
       "      <td>1.000000</td>\n",
       "    </tr>\n",
       "    <tr>\n",
       "      <th>max</th>\n",
       "      <td>-24983.290000</td>\n",
       "      <td>1.730000</td>\n",
       "      <td>-4.040002</td>\n",
       "      <td>-4.206600</td>\n",
       "      <td>6602.350000</td>\n",
       "      <td>1.000000</td>\n",
       "      <td>7.081000</td>\n",
       "      <td>32339.980000</td>\n",
       "      <td>1.000000</td>\n",
       "      <td>-1929.820000</td>\n",
       "      <td>...</td>\n",
       "      <td>-3.782328</td>\n",
       "      <td>13.330000</td>\n",
       "      <td>26.424000</td>\n",
       "      <td>14.805000</td>\n",
       "      <td>21124.240000</td>\n",
       "      <td>1171.950000</td>\n",
       "      <td>13.536000</td>\n",
       "      <td>1892.780000</td>\n",
       "      <td>-6.81000</td>\n",
       "      <td>1.000000</td>\n",
       "    </tr>\n",
       "  </tbody>\n",
       "</table>\n",
       "<p>8 rows × 22 columns</p>\n",
       "</div>"
      ],
      "text/plain": [
       "                 F1           F2           F3           F4           F5  \\\n",
       "count   1000.000000  1000.000000  1000.000000  1000.000000  1000.000000   \n",
       "mean  -28749.730710     1.259000    -5.008527    -7.073618  1787.391510   \n",
       "std     1688.229804     0.499408     1.343875     2.708288   702.890861   \n",
       "min   -81470.290000     0.730000   -15.676000   -17.676000 -1942.650000   \n",
       "25%   -28720.400000     0.730000    -5.319050    -8.262750  1506.272500   \n",
       "50%   -28701.070500     1.730000    -4.507200    -6.221100  1649.040000   \n",
       "75%   -28682.255000     1.730000    -4.127370    -5.059425  1880.725000   \n",
       "max   -24983.290000     1.730000    -4.040002    -4.206600  6602.350000   \n",
       "\n",
       "                F6           F7            F8           F9           F10  ...  \\\n",
       "count  1000.000000  1000.000000   1000.000000  1000.000000   1000.000000  ...   \n",
       "mean      0.507000     4.314597  16794.708266     0.481000 -10014.212102  ...   \n",
       "std       0.500201     0.614178   2074.355688     0.499889   1494.941683  ...   \n",
       "min       0.000000     3.540592   7679.980000     0.000000 -19975.820000  ...   \n",
       "25%       0.000000     3.827700  15994.420000     0.000000 -10175.920000  ...   \n",
       "50%       1.000000     4.180750  16381.580000     0.000000  -9636.920000  ...   \n",
       "75%       1.000000     4.694500  17021.730000     1.000000  -9383.513500  ...   \n",
       "max       1.000000     7.081000  32339.980000     1.000000  -1929.820000  ...   \n",
       "\n",
       "               F13          F14          F15          F16           F17  \\\n",
       "count  1000.000000  1000.000000  1000.000000  1000.000000   1000.000000   \n",
       "mean    -13.932299     6.097217    15.932875     4.033075   9994.592611   \n",
       "std      10.285697     1.802407     2.708330     2.609035   1058.036210   \n",
       "min     -85.560000     4.225980    12.966360     1.266660   3700.240000   \n",
       "25%     -16.732500     4.743650    13.852350     2.079975   9584.540000   \n",
       "50%     -10.862000     5.534500    15.096750     3.267150   9755.930000   \n",
       "75%      -6.972000     6.834000    17.170500     5.188500  10066.240000   \n",
       "max      -3.782328    13.330000    26.424000    14.805000  21124.240000   \n",
       "\n",
       "               F18          F19           F20         F21        Class  \n",
       "count  1000.000000  1000.000000   1000.000000  1000.00000  1000.000000  \n",
       "mean  -3750.649178     3.255798  -5066.909169   -10.18352     0.506000  \n",
       "std     739.616151     2.699756   1023.164795     0.75110     0.500214  \n",
       "min   -8521.050000     0.334140 -12915.220000   -13.62000     0.000000  \n",
       "25%   -3791.062500     1.150725  -5335.020000   -10.18352     0.000000  \n",
       "50%   -3589.140000     2.384400  -5044.997000   -10.18352     1.000000  \n",
       "75%   -3489.926250     4.704750  -4795.820000   -10.13750     1.000000  \n",
       "max    1171.950000    13.536000   1892.780000    -6.81000     1.000000  \n",
       "\n",
       "[8 rows x 22 columns]"
      ]
     },
     "execution_count": 71,
     "metadata": {},
     "output_type": "execute_result"
    }
   ],
   "source": [
    "#Get overall description of the dataframe\n",
    "df.describe()"
   ]
  },
  {
   "cell_type": "markdown",
   "metadata": {},
   "source": [
    "# Decision Tree Classifier"
   ]
  },
  {
   "cell_type": "code",
   "execution_count": 72,
   "metadata": {},
   "outputs": [],
   "source": [
    "#Splitting the data in training and testing set\n",
    "x_train,x_test,y_train,y_test=train_test_split(features,target_var,test_size=0.20,random_state=1)#80 % training and 20 % testing"
   ]
  },
  {
   "cell_type": "code",
   "execution_count": 73,
   "metadata": {},
   "outputs": [],
   "source": [
    "#Creating the Decision Tree Classifier\n",
    "dtc=DecisionTreeClassifier()\n",
    "dtc=dtc.fit(x_train,y_train)\n"
   ]
  },
  {
   "cell_type": "code",
   "execution_count": 74,
   "metadata": {},
   "outputs": [],
   "source": [
    "#Use classifier to predict y using x of testing data set\n",
    "y_predict=dtc.predict(x_test)"
   ]
  },
  {
   "cell_type": "code",
   "execution_count": 75,
   "metadata": {},
   "outputs": [
    {
     "name": "stdout",
     "output_type": "stream",
     "text": [
      "Accuracy of decision tree classifier is :  0.84\n",
      "Number of mislabeled points out of a total 200 points : 32\n"
     ]
    }
   ],
   "source": [
    "#check model accuracy\n",
    "print(\"Accuracy of decision tree classifier is : \",metrics.accuracy_score(y_test,y_predict))\n",
    "print(\"Number of mislabeled points out of a total %d points : %d\"\n",
    "% (x_test.shape[0], (y_test != y_predict).sum()))"
   ]
  },
  {
   "cell_type": "markdown",
   "metadata": {},
   "source": [
    "# Random Forest Classifier"
   ]
  },
  {
   "cell_type": "code",
   "execution_count": 76,
   "metadata": {},
   "outputs": [],
   "source": [
    "xr_train,xr_test,yr_train,yr_test=train_test_split(features,target_var,test_size=0.2,random_state=1)"
   ]
  },
  {
   "cell_type": "code",
   "execution_count": 77,
   "metadata": {},
   "outputs": [
    {
     "data": {
      "text/plain": [
       "RandomForestClassifier(n_estimators=155)"
      ]
     },
     "execution_count": 77,
     "metadata": {},
     "output_type": "execute_result"
    }
   ],
   "source": [
    "from sklearn.ensemble import RandomForestClassifier\n",
    "rfc=RandomForestClassifier(n_estimators=155)\n",
    "rfc.fit(xr_train,yr_train)"
   ]
  },
  {
   "cell_type": "code",
   "execution_count": 78,
   "metadata": {},
   "outputs": [],
   "source": [
    "yr_predict=rfc.predict(xr_test)"
   ]
  },
  {
   "cell_type": "code",
   "execution_count": 79,
   "metadata": {},
   "outputs": [
    {
     "name": "stdout",
     "output_type": "stream",
     "text": [
      "Accuracy of random Classifier is : 0.91\n",
      "Number of mislabeled points out of a total 200 points : 18\n"
     ]
    }
   ],
   "source": [
    "print(\"Accuracy of random Classifier is :\",metrics.accuracy_score(yr_test,yr_predict))\n",
    "print(\"Number of mislabeled points out of a total %d points : %d\"\n",
    "% (xr_test.shape[0], (yr_test != yr_predict).sum()))"
   ]
  },
  {
   "cell_type": "markdown",
   "metadata": {},
   "source": [
    "# Support Vector Machine (SVM) Classifier"
   ]
  },
  {
   "cell_type": "code",
   "execution_count": 80,
   "metadata": {},
   "outputs": [],
   "source": [
    "xs_train,xs_test,ys_train,ys_test=train_test_split(features,target_var,test_size=0.2,random_state=1)"
   ]
  },
  {
   "cell_type": "code",
   "execution_count": 81,
   "metadata": {},
   "outputs": [
    {
     "data": {
      "text/plain": [
       "SVC(kernel='linear')"
      ]
     },
     "execution_count": 81,
     "metadata": {},
     "output_type": "execute_result"
    }
   ],
   "source": [
    "from sklearn import svm\n",
    "svmc=svm.SVC(kernel='linear')\n",
    "svmc.fit(xs_train,ys_train)\n"
   ]
  },
  {
   "cell_type": "code",
   "execution_count": 82,
   "metadata": {},
   "outputs": [],
   "source": [
    "svm_predict=svmc.predict(xs_test)"
   ]
  },
  {
   "cell_type": "code",
   "execution_count": 83,
   "metadata": {},
   "outputs": [
    {
     "name": "stdout",
     "output_type": "stream",
     "text": [
      "Accuracy of SVM Classifier is : 0.715\n",
      "Number of mislabeled points out of a total 200 points : 57\n"
     ]
    }
   ],
   "source": [
    "#Checking accuracy of model\n",
    "print(\"Accuracy of SVM Classifier is :\",metrics.accuracy_score(ys_test,svm_predict))\n",
    "print(\"Number of mislabeled points out of a total %d points : %d\"\n",
    "% (xs_test.shape[0], (ys_test != svm_predict).sum()))"
   ]
  },
  {
   "cell_type": "markdown",
   "metadata": {},
   "source": [
    "# Naive Bayes Classifier"
   ]
  },
  {
   "cell_type": "code",
   "execution_count": 84,
   "metadata": {},
   "outputs": [
    {
     "name": "stdout",
     "output_type": "stream",
     "text": [
      "Accuracy of Naive Bayes Classifier is : 0.705\n",
      "Number of mislabeled points out of a total 200 points : 59\n"
     ]
    }
   ],
   "source": [
    "xn_train,xn_test,yn_train,yn_test=train_test_split(features,target_var,test_size=0.2,random_state=1)\n",
    "\n",
    "#Building a Naive bayes model\n",
    "from sklearn.naive_bayes import GaussianNB\n",
    "GC=GaussianNB()\n",
    "GC.fit(xn_train,yn_train)\n",
    "\n",
    "#Predicting y using x of test data set\n",
    "NB_predict=GC.predict(xn_test)\n",
    "NB_predict\n",
    "\n",
    "#Checking accuracy of model\n",
    "print(\"Accuracy of Naive Bayes Classifier is :\",metrics.accuracy_score(yn_test,NB_predict))\n",
    "print(\"Number of mislabeled points out of a total %d points : %d\"\n",
    "% (xn_test.shape[0], (yn_test != NB_predict).sum()))\n",
    "\n"
   ]
  },
  {
   "cell_type": "markdown",
   "metadata": {},
   "source": [
    "# Confusion Matrix for Decision Tree Classifier"
   ]
  },
  {
   "cell_type": "code",
   "execution_count": 85,
   "metadata": {},
   "outputs": [
    {
     "data": {
      "image/png": "[encoded data removed]",
      "text/plain": [
       "<Figure size 432x288 with 2 Axes>"
      ]
     },
     "metadata": {
      "needs_background": "light"
     },
     "output_type": "display_data"
    }
   ],
   "source": [
    "import matplotlib.pyplot as plt\n",
    "from sklearn.metrics import plot_confusion_matrix\n",
    "plot_confusion_matrix(dtc, x_test, y_test)\n",
    "plt.show()"
   ]
  },
  {
   "cell_type": "markdown",
   "metadata": {},
   "source": [
    "# Confusion matrix for Random Forest Classifier"
   ]
  },
  {
   "cell_type": "code",
   "execution_count": 86,
   "metadata": {},
   "outputs": [
    {
     "data": {
      "image/png": "[encoded data removed]",
      "text/plain": [
       "<Figure size 432x288 with 2 Axes>"
      ]
     },
     "metadata": {
      "needs_background": "light"
     },
     "output_type": "display_data"
    }
   ],
   "source": [
    "plot_confusion_matrix(rfc, xr_test, yr_test)\n",
    "plt.show()"
   ]
  },
  {
   "cell_type": "markdown",
   "metadata": {},
   "source": [
    "# Confusion matrix for SVM Classifier"
   ]
  },
  {
   "cell_type": "code",
   "execution_count": 87,
   "metadata": {},
   "outputs": [
    {
     "data": {
      "image/png": "[encoded data removed]",
      "text/plain": [
       "<Figure size 432x288 with 2 Axes>"
      ]
     },
     "metadata": {
      "needs_background": "light"
     },
     "output_type": "display_data"
    }
   ],
   "source": [
    "plot_confusion_matrix(svmc, xs_test, ys_test)\n",
    "plt.show()"
   ]
  },
  {
   "cell_type": "markdown",
   "metadata": {},
   "source": [
    "# Confusion Matrix for Naive Bayes Classifier"
   ]
  },
  {
   "cell_type": "code",
   "execution_count": 88,
   "metadata": {},
   "outputs": [
    {
     "data": {
      "image/png": "[encoded data removed]",
      "text/plain": [
       "<Figure size 432x288 with 2 Axes>"
      ]
     },
     "metadata": {
      "needs_background": "light"
     },
     "output_type": "display_data"
    }
   ],
   "source": [
    "plot_confusion_matrix(GC, xn_test, yn_test)\n",
    "plt.show()"
   ]
  },
  {
   "cell_type": "code",
   "execution_count": 89,
   "metadata": {},
   "outputs": [
    {
     "name": "stdout",
     "output_type": "stream",
     "text": [
      "f1-score of Decision Tree Classifier is :  0.8399999999999999\n",
      "f1-score of Random Forest Classifier is :  0.91\n",
      "f1-score of SVM Classifier is :  0.715\n",
      "f1-score of Naive Bayes Classifier is :  0.705\n"
     ]
    }
   ],
   "source": [
    "from sklearn.metrics import f1_score\n",
    "print(\"f1-score of Decision Tree Classifier is : \",(f1_score(y_test, y_predict, average='micro')))\n",
    "print(\"f1-score of Random Forest Classifier is : \",(f1_score(yr_test, yr_predict, average='micro')))\n",
    "print(\"f1-score of SVM Classifier is : \",(f1_score(ys_test, svm_predict, average='micro')))\n",
    "print(\"f1-score of Naive Bayes Classifier is : \",(f1_score(yn_test, NB_predict, average='micro')))"
   ]
  },
  {
   "cell_type": "code",
   "execution_count": 56,
   "metadata": {},
   "outputs": [],
   "source": [
    "#Accuracy and f1 score of Random forest classifier is highest so for Part B we have considered Random Forest classfier"
   ]
  },
  {
   "cell_type": "markdown",
   "metadata": {},
   "source": [
    "### Part B"
   ]
  },
  {
   "cell_type": "code",
   "execution_count": 247,
   "metadata": {},
   "outputs": [],
   "source": [
    "# HERE YOU WILL USE THIS TEMPLATE TO SAVE THE PREDICTIONS ON THE TEST SET\n",
    "\n",
    "# Load the test data\n",
    "test_df = pd.read_csv('CE802_P2_Test.csv')\n",
    "\n",
    "# Make sure you work on a copy\n",
    "test_data = test_df.iloc[:,:-1].copy()\n",
    "test_data.isnull().sum()\n",
    "test_data['F21'].mean()\n",
    "test_data.fillna((test_data['F21'].mean()),inplace=True)\n",
    "test_data.isnull().sum()\n",
    "\n",
    "predicted = rfc.predict(test_data) # CHANGE HERE -- use your previously trained predictor and apply it to test_data\n",
    "                # (test_data can be modified if needed but make sure you don't change the order of the rows)...\n",
    "\n",
    "# Replace the last (empty) column with your prediction\n",
    "test_df.iloc[:,-1] = predicted\n",
    "\n",
    "# Save to the destination file\n",
    "test_df.to_csv('CE802_P2_Test_Predictions.csv', index=False, float_format='%.8g')\n",
    "\n",
    "# IMPORTANT!! Make sure only the last column has changed\n",
    "assert pd.read_csv('CE802_P2_Test.csv').iloc[:,:-1].equals(pd.read_csv('CE802_P2_Test_Predictions.csv').iloc[:,:-1])"
   ]
  }
 ],
 "metadata": {
  "kernelspec": {
   "display_name": "Python 3",
   "language": "python",
   "name": "python3"
  },
  "language_info": {
   "codemirror_mode": {
    "name": "ipython",
    "version": 3
   },
   "file_extension": ".py",
   "mimetype": "text/x-python",
   "name": "python",
   "nbconvert_exporter": "python",
   "pygments_lexer": "ipython3",
   "version": "3.8.8"
  }
 },
 "nbformat": 4,
 "nbformat_minor": 4
}
